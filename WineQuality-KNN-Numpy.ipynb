{
  "nbformat": 4,
  "nbformat_minor": 0,
  "metadata": {
    "colab": {
      "name": "WineQuality",
      "provenance": [],
      "mount_file_id": "1mreMjvkuA74op7CPw-1lkuUZPO0uY9oK",
      "authorship_tag": "ABX9TyNcze25+z3Qpmb/CRMAHnjP",
      "include_colab_link": true
    },
    "kernelspec": {
      "name": "python3",
      "display_name": "Python 3"
    },
    "language_info": {
      "name": "python"
    }
  },
  "cells": [
    {
      "cell_type": "markdown",
      "metadata": {
        "id": "view-in-github",
        "colab_type": "text"
      },
      "source": [
        "<a href=\"https://colab.research.google.com/github/victorma969/Treinamento-IEEE/blob/main/WineQuality-KNN-Numpy.ipynb\" target=\"_parent\"><img src=\"https://colab.research.google.com/assets/colab-badge.svg\" alt=\"Open In Colab\"/></a>"
      ]
    },
    {
      "cell_type": "markdown",
      "source": [
        "Importação Bibliotecas & Extração dos dados\n",
        "\n"
      ],
      "metadata": {
        "id": "p4TG6PMfyRj0"
      }
    },
    {
      "cell_type": "code",
      "execution_count": 55,
      "metadata": {
        "id": "FseWO_U0yNZf"
      },
      "outputs": [],
      "source": [
        "#importa-se a base de dados\n",
        "import pandas as pd\n",
        "import numpy as np\n",
        "from collections import Counter\n",
        "from sklearn.model_selection import train_test_split\n",
        "from sklearn.metrics import classification_report, accuracy_score\n",
        "\n",
        "df = pd.read_csv(\"/content/drive/MyDrive/Colab Notebooks/3 período /winequality.csv\")\n",
        "\n"
      ]
    },
    {
      "cell_type": "markdown",
      "source": [
        ""
      ],
      "metadata": {
        "id": "iudASSJgQTEd"
      }
    },
    {
      "cell_type": "code",
      "source": [
        "import plotly.express as px\n",
        "\n",
        "fig = px.scatter_3d(df, x = 'wine_is_red' ,y ='alcohol' ,z ='residual sugar', color = 'wine_is_red')\n",
        "\n",
        "fig.show()"
      ],
      "metadata": {
        "id": "tG0oeUvgQUYM"
      },
      "execution_count": null,
      "outputs": []
    },
    {
      "cell_type": "markdown",
      "source": [
        "Implementação K-NN "
      ],
      "metadata": {
        "id": "i3BmETacoUTg"
      }
    },
    {
      "cell_type": "markdown",
      "source": [
        "Processamento dos dados"
      ],
      "metadata": {
        "id": "TC8fgGFi0v7E"
      }
    },
    {
      "cell_type": "code",
      "source": [
        "\n",
        "import numpy as np\n",
        "from collections import Counter\n",
        "from sklearn.model_selection import train_test_split\n",
        "from sklearn.metrics import classification_report, accuracy_score\n",
        "\n",
        "\n",
        "\n",
        "#reorganiza o data set\n",
        "label = df['wine_is_red'].replace([False,True],[0,1])\n",
        "\n",
        "#Remove a feature 'wine_is_red' porque é do tipo label label\n",
        "df.drop(['wine_is_red','quality'],axis=1,inplace=True) \n",
        "\n",
        "df.reset_index(drop=True, inplace=True)\n",
        "\n",
        "#separando os conjuntos de treino e teste\n",
        "train_df, test_df, train_label, test_label = (df[0:int(0.75*len(df))], df[int(0.75*len(df)):], label[0:int(0.75*len(label))], label[int(0.75*len(label)):])\n",
        "train_df, test_df, train_label, test_label = np.array(train_df), np.array(test_df), np.array(train_label), np.array(test_label)\n",
        "\n"
      ],
      "metadata": {
        "id": "kGgRkEAboTbG"
      },
      "execution_count": 56,
      "outputs": []
    },
    {
      "cell_type": "markdown",
      "source": [
        "Distância Euclidiana e *Split* da base de dados.\n"
      ],
      "metadata": {
        "id": "OS0pSzJ55p-Y"
      }
    },
    {
      "cell_type": "code",
      "source": [
        "# Função para cálculo do KNN\n",
        "def KNN(x,y,k):\n",
        "    dist = []\n",
        "    #calcula a distância euclidiana \n",
        "    dist_euclidiana = np.sqrt(np.sum((x-y)**2, axis=1))\n",
        "    #concatena a distância euclidiana com a label do dado\n",
        "    label_arr = np.column_stack((train_label,dist_euclidiana))\n",
        "    #ordena pelas distâncias euclidianas \n",
        "    label_dist_set = label_arr[label_arr[:,1].argsort()]\n",
        "    #Conta os K vizinhos\n",
        "    count = Counter(label_dist_set[0:k,0])\n",
        "    #Retorna a label baseado na contagem dos valores de dados associados \n",
        "    keys, value = list(count.keys()), list(count.values())\n",
        "    if len(value)>1:\n",
        "        if value[0]>value[1]:\n",
        "            return int(keys[0])\n",
        "        else:\n",
        "            return int(keys[1])\n",
        "    else:\n",
        "        return int(keys[0])\n",
        "             "
      ],
      "metadata": {
        "id": "UC5VBi8W52vS"
      },
      "execution_count": 57,
      "outputs": []
    },
    {
      "cell_type": "markdown",
      "source": [
        "Métricas de avaliação do classificador K-NN\n",
        "\n",
        "Aplicação no conjunto de treino:"
      ],
      "metadata": {
        "id": "IEOGyL2Tmv0C"
      }
    },
    {
      "cell_type": "code",
      "source": [
        "#aplicação do K-nn no conjunto de treino\n",
        "pred = []\n",
        "for i in range(len(train_df)):\n",
        "    pred.append(KNN(train_df,train_df[i],5))\n",
        "\n",
        "print(classification_report(pred, train_label))"
      ],
      "metadata": {
        "colab": {
          "base_uri": "https://localhost:8080/"
        },
        "id": "-1w_ZuuXimkR",
        "outputId": "5bc06498-4bb8-489b-e002-ee8b2069b822"
      },
      "execution_count": 58,
      "outputs": [
        {
          "output_type": "stream",
          "name": "stdout",
          "text": [
            "              precision    recall  f1-score   support\n",
            "\n",
            "           0       0.97      0.94      0.96      3790\n",
            "           1       0.81      0.91      0.86      1082\n",
            "\n",
            "    accuracy                           0.93      4872\n",
            "   macro avg       0.89      0.93      0.91      4872\n",
            "weighted avg       0.94      0.93      0.94      4872\n",
            "\n"
          ]
        }
      ]
    },
    {
      "cell_type": "markdown",
      "source": [
        ""
      ],
      "metadata": {
        "id": "VVD8EUDLlSw7"
      }
    },
    {
      "cell_type": "code",
      "source": [
        "#aplicação do K-nn no conjunto de test\n",
        "test_pred = []\n",
        "for i in range(len(test_df)):\n",
        "    test_pred.append(KNN(train_df,test_df[i],5))\n",
        "\n",
        "print(classification_report(test_pred, test_label))"
      ],
      "metadata": {
        "colab": {
          "base_uri": "https://localhost:8080/"
        },
        "id": "vK06o-qejjJX",
        "outputId": "f939ec88-1911-4f80-d6d9-04e38840779b"
      },
      "execution_count": 59,
      "outputs": [
        {
          "output_type": "stream",
          "name": "stdout",
          "text": [
            "              precision    recall  f1-score   support\n",
            "\n",
            "           0       1.00      0.78      0.87      1597\n",
            "           1       0.07      0.89      0.12        28\n",
            "\n",
            "    accuracy                           0.78      1625\n",
            "   macro avg       0.53      0.83      0.50      1625\n",
            "weighted avg       0.98      0.78      0.86      1625\n",
            "\n"
          ]
        }
      ]
    }
  ]
}